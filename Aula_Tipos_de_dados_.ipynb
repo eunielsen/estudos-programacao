{
  "nbformat": 4,
  "nbformat_minor": 0,
  "metadata": {
    "colab": {
      "provenance": [],
      "authorship_tag": "ABX9TyOerliSNzy94ueGXfuC+gz+",
      "include_colab_link": true
    },
    "kernelspec": {
      "name": "python3",
      "display_name": "Python 3"
    },
    "language_info": {
      "name": "python"
    }
  },
  "cells": [
    {
      "cell_type": "markdown",
      "metadata": {
        "id": "view-in-github",
        "colab_type": "text"
      },
      "source": [
        "<a href=\"https://colab.research.google.com/github/eunielsen/estudos-programacao/blob/main/Aula_Tipos_de_dados_.ipynb\" target=\"_parent\"><img src=\"https://colab.research.google.com/assets/colab-badge.svg\" alt=\"Open In Colab\"/></a>"
      ]
    },
    {
      "cell_type": "code",
      "execution_count": 1,
      "metadata": {
        "colab": {
          "base_uri": "https://localhost:8080/"
        },
        "id": "mjo7Fi-eB2Bc",
        "outputId": "97a922ac-fbb8-4f1b-c7d2-14bf7e34c712"
      },
      "outputs": [
        {
          "output_type": "stream",
          "name": "stdout",
          "text": [
            " meu primeiro notebook\n"
          ]
        }
      ],
      "source": [
        "print ( ' meu primeiro notebook')\n"
      ]
    },
    {
      "cell_type": "code",
      "source": [
        "nome = 'Nielsen Rodrigues'\n",
        "print(nome)"
      ],
      "metadata": {
        "id": "SVPl6J_LCSio"
      },
      "execution_count": null,
      "outputs": []
    },
    {
      "cell_type": "code",
      "source": [
        "#Descobrir tipo de variável\n",
        "type(nome)\n"
      ],
      "metadata": {
        "id": "Pg21WY4nCqu0"
      },
      "execution_count": 4,
      "outputs": []
    },
    {
      "cell_type": "code",
      "source": [
        "a = 100 \n",
        "b = 25.6\n",
        "c = a > b\n",
        "d = 'Chimpanzé'"
      ],
      "metadata": {
        "id": "VA6tnR7YEQ7G"
      },
      "execution_count": 5,
      "outputs": []
    },
    {
      "cell_type": "markdown",
      "source": [],
      "metadata": {
        "id": "EDNlvL1UK5OZ"
      }
    },
    {
      "cell_type": "code",
      "source": [
        "a = 100 < 200\n",
        "b = 85 == 6\n",
        "c = 'pablo' == 'pablo'\n",
        "d = 25 == '25'\n",
        "e = 30 == (6*5)\n",
        "f = 'Flamengo' != 'Vasco'"
      ],
      "metadata": {
        "id": "rlyBrP6eK5u4"
      },
      "execution_count": 14,
      "outputs": []
    },
    {
      "cell_type": "code",
      "source": [
        "notaAprovação = 7.0\n",
        "notaWalison = 8.0\n",
        "print(notaAprovação < notaWalison)"
      ],
      "metadata": {
        "colab": {
          "base_uri": "https://localhost:8080/"
        },
        "id": "dQ-bzyuXMsJe",
        "outputId": "014b2bc4-e8af-4b88-b36d-fc5676bc9af5"
      },
      "execution_count": 16,
      "outputs": [
        {
          "output_type": "stream",
          "name": "stdout",
          "text": [
            "True\n"
          ]
        }
      ]
    },
    {
      "cell_type": "markdown",
      "source": [],
      "metadata": {
        "id": "TbMfKl1tN298"
      }
    },
    {
      "cell_type": "code",
      "source": [
        "notaAprovação = 7.0\n",
        "notaWalison = 3.0\n",
        "print(notaAprovação < notaWalison)"
      ],
      "metadata": {
        "colab": {
          "base_uri": "https://localhost:8080/"
        },
        "id": "Nr_ExE47N37b",
        "outputId": "4495460c-822e-4be5-bafc-a6ed9e389816"
      },
      "execution_count": 17,
      "outputs": [
        {
          "output_type": "stream",
          "name": "stdout",
          "text": [
            "False\n"
          ]
        }
      ]
    },
    {
      "cell_type": "code",
      "source": [
        "if(notaWalison >= notaAprovação):\n",
        "  print('Aprovado')\n",
        "else:\n",
        "  print('Reprovado')  "
      ],
      "metadata": {
        "colab": {
          "base_uri": "https://localhost:8080/"
        },
        "id": "PAIT3lJCOABa",
        "outputId": "6a27c77c-1b72-4869-81eb-355f47ca8ad0"
      },
      "execution_count": 19,
      "outputs": [
        {
          "output_type": "stream",
          "name": "stdout",
          "text": [
            "Reprovado\n"
          ]
        }
      ]
    },
    {
      "cell_type": "code",
      "source": [
        "if(notaWalison >= 7):\n",
        "  print('Aprovado')\n",
        "elif(notaWalison >= 4 and < 7):\n",
        "  print('Recuperação')\n",
        "else:\n",
        "  print('Reprovado')  "
      ],
      "metadata": {
        "id": "cJ-EY1FYPGPA"
      },
      "execution_count": null,
      "outputs": []
    },
    {
      "cell_type": "code",
      "source": [
        "nota1 = input('Digite a nota, pae!')\n",
        "nota2 = input('Digite a segunda nota!')\n",
        "print(nota1+nota2)"
      ],
      "metadata": {
        "colab": {
          "base_uri": "https://localhost:8080/"
        },
        "id": "vTyLpIHqUtU8",
        "outputId": "12e32a8c-fd48-4058-ba47-0815b1090f24"
      },
      "execution_count": 36,
      "outputs": [
        {
          "output_type": "stream",
          "name": "stdout",
          "text": [
            "Digite a nota, pae!8\n",
            "Digite a segunda nota!4\n",
            "84\n"
          ]
        }
      ]
    },
    {
      "cell_type": "code",
      "source": [
        "nota1 = float(input('Digite a nota, pae!'))\n",
        "nota2 = float(input('Digite a segunda nota!'))\n",
        "nota3 = float(input('Digite a terceira nota!'))\n",
        "media = (nota1 + nota2 + nota3)/3\n",
        "print(media)"
      ],
      "metadata": {
        "colab": {
          "base_uri": "https://localhost:8080/"
        },
        "id": "jKiI9aF6WMwX",
        "outputId": "1d9810fc-bd3d-4c77-f06c-b3176c44c1b3"
      },
      "execution_count": 39,
      "outputs": [
        {
          "output_type": "stream",
          "name": "stdout",
          "text": [
            "Digite a nota, pae!8\n",
            "Digite a segunda nota!4\n",
            "Digite a terceira nota!3\n",
            "5.0\n"
          ]
        }
      ]
    },
    {
      "cell_type": "code",
      "source": [],
      "metadata": {
        "id": "iKWuGe3XNMxN"
      },
      "execution_count": null,
      "outputs": []
    },
    {
      "cell_type": "code",
      "source": [
        "print(a)\n",
        "print(b)\n",
        "print(c)\n",
        "print(d)\n",
        "print(e)"
      ],
      "metadata": {
        "colab": {
          "base_uri": "https://localhost:8080/"
        },
        "id": "D4Wkbd4_Eo81",
        "outputId": "e5624686-7494-48b5-ba2b-625d55211108"
      },
      "execution_count": 11,
      "outputs": [
        {
          "output_type": "stream",
          "name": "stdout",
          "text": [
            "True\n",
            "False\n",
            "True\n",
            "False\n",
            "True\n"
          ]
        }
      ]
    }
  ]
}